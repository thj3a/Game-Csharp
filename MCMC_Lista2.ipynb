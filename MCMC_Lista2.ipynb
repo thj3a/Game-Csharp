{
  "nbformat": 4,
  "nbformat_minor": 0,
  "metadata": {
    "colab": {
      "name": "Untitled0.ipynb",
      "provenance": [],
      "authorship_tag": "ABX9TyPKPMuzYzzNHSTvbyG3ukP0"
    },
    "kernelspec": {
      "name": "python3",
      "display_name": "Python 3"
    },
    "language_info": {
      "name": "python"
    }
  },
  "cells": [
    {
      "cell_type": "code",
      "source": [
        "import numpy as np\n",
        "import matplotlib.pyplot as plt\n",
        "import requests\n",
        "import multiprocessing as mp\n"
      ],
      "metadata": {
        "id": "jnA1S2CkcNMA"
      },
      "execution_count": 38,
      "outputs": []
    },
    {
      "cell_type": "markdown",
      "source": [
        "# Questão 5\n"
      ],
      "metadata": {
        "id": "OBu-se0pcEf6"
      }
    },
    {
      "cell_type": "code",
      "source": [
        "def invGeo(u, p):\n",
        "  return np.ceil(np.log10(u)/np.log10(1-p))"
      ],
      "metadata": {
        "id": "KEhIgNgZdEMS"
      },
      "execution_count": 89,
      "outputs": []
    },
    {
      "cell_type": "code",
      "source": [
        "np.random.uniform(0,1)"
      ],
      "metadata": {
        "colab": {
          "base_uri": "https://localhost:8080/"
        },
        "id": "j_gV7e2bcD65",
        "outputId": "b29dfd75-c910-46d1-da67-4bd608db7de9"
      },
      "execution_count": 90,
      "outputs": [
        {
          "output_type": "execute_result",
          "data": {
            "text/plain": [
              "0.32135175167383345"
            ]
          },
          "metadata": {},
          "execution_count": 90
        }
      ]
    },
    {
      "cell_type": "code",
      "source": [
        "def funcV():\n",
        "  ksum = 0\n",
        "  k = 0 #counter for number of elements summed\n",
        "  while ksum < 1:\n",
        "    ksum += np.random.uniform(0,1)\n",
        "    k+=1\n",
        "  return k"
      ],
      "metadata": {
        "id": "khVjgPjpcD2U"
      },
      "execution_count": 95,
      "outputs": []
    },
    {
      "cell_type": "code",
      "source": [
        "funcV()"
      ],
      "metadata": {
        "colab": {
          "base_uri": "https://localhost:8080/"
        },
        "id": "avj28LqajT_c",
        "outputId": "ac9e142d-c534-4701-ecfd-4571c003278e"
      },
      "execution_count": 96,
      "outputs": [
        {
          "output_type": "execute_result",
          "data": {
            "text/plain": [
              "3"
            ]
          },
          "metadata": {},
          "execution_count": 96
        }
      ]
    },
    {
      "cell_type": "code",
      "source": [
        "def E_V(N):\n",
        "  pool = mp.Pool(mp.cpu_count())\n",
        "  results = [pool.apply(funcV, args=()) for i in range(N)]\n",
        "  pool.close()\n",
        "  \n",
        "  return np.average(results)\n"
      ],
      "metadata": {
        "id": "wm8OvwjLgpaz"
      },
      "execution_count": 107,
      "outputs": []
    },
    {
      "cell_type": "code",
      "source": [
        "n=100000\n",
        "E_V(n)"
      ],
      "metadata": {
        "colab": {
          "base_uri": "https://localhost:8080/"
        },
        "id": "NW8t1KkRis8A",
        "outputId": "809c6944-6dc1-462f-befa-01a9d6a43bf9"
      },
      "execution_count": 118,
      "outputs": [
        {
          "output_type": "execute_result",
          "data": {
            "text/plain": [
              "2.71897"
            ]
          },
          "metadata": {},
          "execution_count": 118
        }
      ]
    },
    {
      "cell_type": "markdown",
      "source": [
        "# Questão 6"
      ],
      "metadata": {
        "id": "NqyaUw4NcIfv"
      }
    }
  ]
}